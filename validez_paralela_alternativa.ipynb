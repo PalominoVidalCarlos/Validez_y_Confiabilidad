{
 "cells": [
  {
   "cell_type": "markdown",
   "metadata": {},
   "source": [
    "### Validez Paralela o alternativa\n",
    "\n",
    "Se administran dos instrumentos equivalentes, es decir no es el mismo instrumento. Los instrumentos son equivalentes en contenidos, preguntas, instrucciones, duración, etc. Se administran a un mismo grupo dentro de un periodo de tiempo corto. Se mide la confiabilidad a través de la correlación de ambos puntajes"
   ]
  },
  {
   "cell_type": "code",
   "execution_count": 1,
   "metadata": {},
   "outputs": [
    {
     "name": "stdout",
     "output_type": "stream",
     "text": [
      "Correlación de Pearson: 0.9567977517345541\n",
      "Valor p: 2.236459386771317e-54\n"
     ]
    }
   ],
   "source": [
    "import pandas as pd\n",
    "from scipy.stats import pearsonr\n",
    "\n",
    "# Lee el archivo Excel en un DataFrame de pandas\n",
    "df = pd.read_excel('data/Resultados_Simulados_Formas_Paralelas.xlsx')\n",
    "\n",
    "# Calcula la suma de los puntajes de las formas A y B\n",
    "puntajes_totales_A = df.loc[:, 'Ítem_A_1':'Ítem_A_10'].sum(axis=1)\n",
    "puntajes_totales_B = df.loc[:, 'Ítem_B_1':'Ítem_B_10'].sum(axis=1)\n",
    "\n",
    "# Calcula la correlación de Pearson entre las sumas totales de las formas A y B\n",
    "correlacion, p_valor = pearsonr(puntajes_totales_A, puntajes_totales_B)\n",
    "\n",
    "# Imprime la correlación y el valor p\n",
    "print(f'Correlación de Pearson: {correlacion}')\n",
    "print(f'Valor p: {p_valor}')\n"
   ]
  },
  {
   "cell_type": "markdown",
   "metadata": {},
   "source": [
    "### Correlación de Pearson: 0.9567977517345541\n",
    "La correlación de Pearson es una medida que indica el grado de relación lineal entre dos variables cuantitativas. El valor puede variar entre -1 y 1, donde:\n",
    "\n",
    "1 indica una correlación positiva perfecta (a medida que una variable aumenta, la otra también lo hace en proporción directa).\n",
    "-1 indica una correlación negativa perfecta (a medida que una variable aumenta, la otra disminuye en proporción directa).\n",
    "0 indica que no hay correlación lineal entre las variables.\n",
    "Un valor de 0.9567977517345541 es muy cercano a 1, lo que sugiere una fuerte correlación positiva entre tus dos conjuntos de datos. Esto significa que a medida que los valores de una variable aumentan, los valores de la otra variable tienden a aumentar en una proporción muy similar, indicando una relación lineal muy fuerte entre ellos.\n",
    "\n",
    "### Valor p: 2.236459386771317e-54\n",
    "El valor p es un indicador de la significancia estadística de los resultados obtenidos. En términos simples, te dice si el resultado observado es probablemente real o si ocurrió por casualidad.\n",
    "\n",
    "Un valor p bajo (generalmente menor que 0.05) indica que es muy improbable que la correlación observada sea resultado del azar. En otras palabras, hay suficiente evidencia para decir que existe una verdadera correlación entre las variables.\n",
    "Un valor p alto sugiere que la correlación observada podría ser resultado del azar, y no hay suficiente evidencia para afirmar que existe una relación real entre las variables.\n",
    "El valor p que has proporcionado, 2.236459386771317e-54, es extremadamente bajo, prácticamente cero. Esto significa que la fuerte correlación observada es altamente significativa desde el punto de vista estadístico, y es muy improbable que se deba al azar. \n",
    "\n",
    "### En resumen, puedes estar muy seguro de que la relación lineal que encontraste entre las dos variables es real y estadísticamente significativa."
   ]
  }
 ],
 "metadata": {
  "kernelspec": {
   "display_name": "Python 3",
   "language": "python",
   "name": "python3"
  },
  "language_info": {
   "codemirror_mode": {
    "name": "ipython",
    "version": 3
   },
   "file_extension": ".py",
   "mimetype": "text/x-python",
   "name": "python",
   "nbconvert_exporter": "python",
   "pygments_lexer": "ipython3",
   "version": "3.11.4"
  }
 },
 "nbformat": 4,
 "nbformat_minor": 2
}
