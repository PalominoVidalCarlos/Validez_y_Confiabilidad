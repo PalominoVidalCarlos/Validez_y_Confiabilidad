{
 "cells": [
  {
   "cell_type": "markdown",
   "metadata": {},
   "source": [
    "### Validez Medida Estabilidad\n",
    "\n",
    "Confiabilidad Test-ReTest, un mismo instrumento es administrado a un mismo grupo de personas, después de un periodo de tiempo. Se mide la confiabilidad a través de la correlación de ambos puntajes. "
   ]
  },
  {
   "cell_type": "code",
   "execution_count": 1,
   "metadata": {},
   "outputs": [
    {
     "name": "stdout",
     "output_type": "stream",
     "text": [
      "Pregunta 1: Correlación = 0.807, Valor p = 3.436e-24\n",
      "Pregunta 2: Correlación = 0.863, Valor p = 8.601e-31\n",
      "Pregunta 3: Correlación = 0.848, Valor p = 8.638e-29\n",
      "Pregunta 4: Correlación = 0.791, Valor p = 1.231e-22\n",
      "Pregunta 5: Correlación = 0.902, Valor p = 1.750e-37\n",
      "Pregunta 6: Correlación = 0.748, Valor p = 3.976e-19\n",
      "Pregunta 7: Correlación = 0.860, Valor p = 2.266e-30\n",
      "Pregunta 8: Correlación = 0.812, Valor p = 1.166e-24\n",
      "Pregunta 9: Correlación = 0.885, Valor p = 2.985e-34\n",
      "Pregunta 10: Correlación = 0.801, Valor p = 1.625e-23\n",
      "\n",
      "Correlación Promedio: 0.832\n",
      "Valor p Promedio: 3.977e-20\n"
     ]
    }
   ],
   "source": [
    "import pandas as pd\n",
    "from scipy.stats import pearsonr\n",
    "\n",
    "# Carga el archivo Excel con los resultados simulados\n",
    "df = pd.read_excel('data/Resultados_Medida_Estabilidad.xlsx')\n",
    "\n",
    "# Inicializa listas para almacenar las correlaciones y los valores p\n",
    "correlaciones = []\n",
    "valores_p = []\n",
    "\n",
    "# Calcula la correlación para cada pregunta entre t1 y t2\n",
    "for i in range(1, 11):  # Asumiendo que hay 10 preguntas\n",
    "    puntajes_t1 = df[f'Pregunta {i} (t1)']\n",
    "    puntajes_t2 = df[f'Pregunta {i} (t2)']\n",
    "    correlacion, p_valor = pearsonr(puntajes_t1, puntajes_t2)\n",
    "    correlaciones.append(correlacion)\n",
    "    valores_p.append(p_valor)\n",
    "\n",
    "    # Imprime la correlación y el valor p para cada pregunta\n",
    "    print(f'Pregunta {i}: Correlación = {correlacion:.3f}, Valor p = {p_valor:.3e}')\n",
    "\n",
    "# Opcional: calcular la correlación promedio y el valor p promedio\n",
    "correlacion_promedio = sum(correlaciones) / len(correlaciones)\n",
    "p_valor_promedio = sum(valores_p) / len(valores_p)\n",
    "print(f'\\nCorrelación Promedio: {correlacion_promedio:.3f}')\n",
    "print(f'Valor p Promedio: {p_valor_promedio:.3e}')\n"
   ]
  },
  {
   "cell_type": "markdown",
   "metadata": {},
   "source": [
    "### Correlaciones Individuales\n",
    "Cada par de correlación y valor p para las preguntas del 1 al 10 muestra la fuerza y dirección de la relación lineal entre las respuestas en los dos tiempos para esa pregunta específica. Las correlaciones varían entre 0.748 y 0.902, lo que indica una relación positiva fuerte en todos los casos. Esto significa que, en general, los participantes que puntuaron más alto o más bajo en el primer tiempo tendieron a puntuar de manera similar en el segundo tiempo para cada pregunta.\n",
    "\n",
    "Una correlación fuerte sugiere que las respuestas son relativamente estables; es decir, las percepciones, actitudes o comportamientos medidos por el instrumento no cambiaron significativamente entre los dos momentos de medición.\n",
    "\n",
    "### Valores p\n",
    "Los valores p asociados son extremadamente bajos (todos significativamente menores que el umbral típico de 0.05), lo que indica que las correlaciones observadas son estadísticamente significativas. En otras palabras, es muy improbable que estos resultados sean producto del azar; hay una verdadera relación de estabilidad en las respuestas a lo largo del tiempo para cada pregunta.\n",
    "\n",
    "### Correlación y Valor p Promedio\n",
    "La correlación promedio de 0.832 y el valor p promedio de aproximadamente 3.977e-20 reflejan el comportamiento promedio de las correlaciones y significancias estadísticas a través de todas las preguntas. La alta correlación promedio confirma que, en promedio, las respuestas a las preguntas fueron consistentes y estables entre los dos momentos de medición a través del instrumento completo.\n",
    "\n",
    "El valor p promedio, también extremadamente bajo, refuerza la conclusión de que estas altas correlaciones no son coincidencias; representan una estabilidad significativa en los datos.\n",
    "\n",
    "### Conclusión\n",
    "En resumen, estos resultados sugieren que el instrumento es efectivo para medir constructos que son estables en el tiempo para el grupo de participantes estudiado. Este tipo de estabilidad es crucial para la confiabilidad de un instrumento, especialmente si se pretende medir aspectos que no deberían cambiar rápidamente con el tiempo, como ciertas actitudes, creencias o características de personalidad."
   ]
  }
 ],
 "metadata": {
  "kernelspec": {
   "display_name": "Python 3",
   "language": "python",
   "name": "python3"
  },
  "language_info": {
   "codemirror_mode": {
    "name": "ipython",
    "version": 3
   },
   "file_extension": ".py",
   "mimetype": "text/x-python",
   "name": "python",
   "nbconvert_exporter": "python",
   "pygments_lexer": "ipython3",
   "version": "3.11.4"
  }
 },
 "nbformat": 4,
 "nbformat_minor": 2
}
